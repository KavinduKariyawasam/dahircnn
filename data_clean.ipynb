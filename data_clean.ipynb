{
 "cells": [
  {
   "cell_type": "code",
   "execution_count": 1,
   "metadata": {},
   "outputs": [],
   "source": [
    "import rasterio\n",
    "from rasterio.plot import show"
   ]
  },
  {
   "cell_type": "code",
   "execution_count": 2,
   "metadata": {},
   "outputs": [
    {
     "name": "stdout",
     "output_type": "stream",
     "text": [
      "{'driver': 'GTiff', 'dtype': 'int16', 'nodata': -99.0, 'width': 1024, 'height': 1024, 'count': 3, 'crs': CRS.from_wkt('GEOGCS[\"WGS 84\",DATUM[\"WGS_1984\",SPHEROID[\"WGS 84\",6378137,298.257223563,AUTHORITY[\"EPSG\",\"7030\"]],AUTHORITY[\"EPSG\",\"6326\"]],PRIMEM[\"Greenwich\",0],UNIT[\"degree\",0.0174532925199433,AUTHORITY[\"EPSG\",\"9122\"]],AXIS[\"Latitude\",NORTH],AXIS[\"Longitude\",EAST],AUTHORITY[\"EPSG\",\"4326\"]]'), 'transform': Affine(4.4879708582127425e-06, 0.0, -90.83307662397137,\n",
      "       0.0, -4.4879708582127425e-06, 14.429745503865325), 'tiled': False, 'interleave': 'pixel'}\n"
     ]
    }
   ],
   "source": [
    "img_path = \"/home/deependra/Dataset/x2view/geotiffs/hold/images/guatemala-volcano_00000004_post_disaster.tif\"\n",
    "\n",
    "with rasterio.open(img_path) as src:\n",
    "    print(src.profile)  \n",
    "    img = src.read()  "
   ]
  },
  {
   "cell_type": "code",
   "execution_count": 17,
   "metadata": {},
   "outputs": [
    {
     "name": "stdout",
     "output_type": "stream",
     "text": [
      "[7, 11, 35, 55, 60, 61, 85, 88, 92, 96, 116, 120, 123, 139, 144, 149, 175, 184, 194, 202, 234, 242, 248, 249, 252, 264, 268, 280, 291, 295, 308, 314, 326, 334, 355, 363, 371, 376, 383, 387, 442, 445, 446, 474, 480, 484, 505, 506, 507, 509, 512, 513, 521, 534, 544, 559, 568, 573, 601, 607, 632, 635, 640, 651, 658, 659, 660, 664, 666, 676, 677, 688, 694, 700, 710, 715, 729, 766, 786, 789, 799, 804, 809, 824, 827, 828, 830, 835, 842, 849, 850, 852, 869, 879, 880, 910, 917, 937, 942, 950, 972, 974, 980, 985, 989, 1012, 1013, 1014, 1018, 1026, 1038, 1046, 1064, 1073, 1074, 1094, 1103, 1105, 1121, 1141, 1142, 1148, 1151, 1154, 1158, 1168, 1181, 1205, 1217, 1220, 1230, 1234, 1239, 1247, 1258, 1269, 1273, 1291, 1294, 1305, 1309, 1312, 1315, 1345, 1348, 1349, 1350, 1354, 1386, 1394, 1402, 1407, 1417, 1431, 1447, 1460, 1472, 1489, 1490, 1508, 1513, 1515, 1516, 1529, 1538, 1563, 1567, 1591, 1618, 1630, 1645, 1650, 1682, 1691, 1696, 1697, 1699, 1700, 1720, 1764, 1774, 1776, 1794, 1795, 1801, 1802, 1820, 1839, 1841, 1845, 1856, 1869, 1877, 1885, 1902, 1917, 1922, 1944, 1945, 1950, 1959, 1979, 2025, 2026, 2081, 2101, 2109, 2117, 2150, 2163, 2165, 2166, 2177, 2178, 2184, 2185, 2203, 2217, 2237, 2241, 2256, 2281, 2287, 2289, 2304, 2326, 2328, 2338, 2341, 2354, 2378, 2410, 2416, 2430, 2445, 2449, 2450, 2458, 2464, 2476, 2487, 2489, 2495, 2517, 2524, 2528, 2549, 2564, 2586, 2588, 2590, 2621, 2628, 2642, 2647, 2652, 2659, 2666, 2679, 2713, 2752, 2754, 2759, 2775, 2776, 2780, 2785]\n"
     ]
    },
    {
     "data": {
      "text/plain": [
       "id                                         midwest-flooding_00000397\n",
       "pre_image_path     /home/deependra/Dataset/x2view/geotiffs/tier1/...\n",
       "pre_label_path     /home/deependra/Dataset/x2view/geotiffs/tier1/...\n",
       "post_image_path    /home/deependra/Dataset/x2view/geotiffs/tier1/...\n",
       "post_label_path    /home/deependra/Dataset/x2view/geotiffs/tier1/...\n",
       "flood_name                                          midwest-flooding\n",
       "no-damage                                                          1\n",
       "minor-damage                                                       0\n",
       "major-damage                                                       0\n",
       "destroyed                                                          0\n",
       "Name: 2798, dtype: object"
      ]
     },
     "execution_count": 17,
     "metadata": {},
     "output_type": "execute_result"
    }
   ],
   "source": [
    "import pandas as pd\n",
    "import re\n",
    "\n",
    "csv_file_path = '/home/deependra/Dataset/malawi_test/train_df_tier1.csv'\n",
    "\n",
    "error_ids_file_path = '/home/deependra/kuyesera/dahircnn/error_image_ids_tier1.txt'\n",
    "\n",
    "df = pd.read_csv(csv_file_path)\n",
    "\n",
    "with open(error_ids_file_path, 'r') as file:\n",
    "    error_ids = [line.strip() for line in file.readlines()]\n",
    "    \n",
    "    error_ids = [int(re.search(r'\\[(\\d+)\\]', i).group(1)) for i in error_ids]\n",
    "    \n",
    "    print(error_ids)\n",
    "\n",
    "# access 1st row of the dataframe using iloc\n",
    "row = df.iloc[2798]\n",
    "row\n",
    "\n",
    "\n",
    "# df_filtered = df[~df['id'].isin(error_ids)]\n",
    "\n",
    "# filtered_csv_file_path = 'filtered_csv.csv'\n",
    "# df_filtered.to_csv(filtered_csv_file_path, index=False)\n",
    "\n",
    "# print(f\"Filtered CSV saved to: {filtered_csv_file_path}\")\n"
   ]
  },
  {
   "cell_type": "code",
   "execution_count": 19,
   "metadata": {},
   "outputs": [
    {
     "name": "stdout",
     "output_type": "stream",
     "text": [
      "Filtered CSV saved to: /home/deependra/Dataset/malawi_test/train_df_tier1.csv\n"
     ]
    }
   ],
   "source": [
    "import pandas as pd\n",
    "import re\n",
    "\n",
    "# File paths\n",
    "csv_file_path = '/home/deependra/Dataset/malawi_test/all_train_df_tier1.csv'\n",
    "error_ids_file_path = '/home/deependra/kuyesera/dahircnn/error_image_ids_tier1.txt'\n",
    "\n",
    "# Load the CSV file\n",
    "df = pd.read_csv(csv_file_path)\n",
    "\n",
    "# Load and process the error IDs\n",
    "with open(error_ids_file_path, 'r') as file:\n",
    "    error_ids = [line.strip() for line in file.readlines()]\n",
    "    # Extract numbers from the tensor-like strings\n",
    "    error_ids = [int(re.search(r'\\[(\\d+)\\]', i).group(1)) for i in error_ids]\n",
    "    # Adjust error IDs to 0-based indexing\n",
    "    # error_indices = [i - 1 for i in error_ids]\n",
    "\n",
    "# Drop the error rows from the DataFrame\n",
    "df_filtered = df.drop(error_ids, axis=0)\n",
    "\n",
    "# Save the filtered DataFrame to a new CSV file\n",
    "filtered_csv_file_path = '/home/deependra/Dataset/malawi_test/train_df_tier1.csv'\n",
    "df_filtered.to_csv(filtered_csv_file_path, index=False)\n",
    "\n",
    "print(f\"Filtered CSV saved to: {filtered_csv_file_path}\")\n"
   ]
  },
  {
   "cell_type": "code",
   "execution_count": null,
   "metadata": {},
   "outputs": [],
   "source": []
  }
 ],
 "metadata": {
  "kernelspec": {
   "display_name": "nlrc",
   "language": "python",
   "name": "python3"
  },
  "language_info": {
   "codemirror_mode": {
    "name": "ipython",
    "version": 3
   },
   "file_extension": ".py",
   "mimetype": "text/x-python",
   "name": "python",
   "nbconvert_exporter": "python",
   "pygments_lexer": "ipython3",
   "version": "3.7.9"
  }
 },
 "nbformat": 4,
 "nbformat_minor": 2
}
